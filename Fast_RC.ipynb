{
 "cells": [
  {
   "cell_type": "code",
   "execution_count": 3,
   "metadata": {},
   "outputs": [
    {
     "name": "stdout",
     "output_type": "stream",
     "text": [
      "Time constant for 1 Capacitor =  0.0001255144685573398\n",
      "Theoretical value =  0.000103215\n",
      "\n",
      "Time constant for 2 Capacitors in parallel =  0.0002164042561333445\n",
      "Theoretical value =  0.00020741300000000001\n",
      "\n",
      "Time constant for 2 Capacitors in series =  6.924936196267025e-05\n",
      "Theoretical value =  5.1852085308056874e-05\n",
      "1.3862943611198905e-06 0.035355339059327376 0.07071067811865477\n",
      "9.885919279460056e-07\n"
     ]
    }
   ],
   "source": [
    "import math\n",
    "import numpy as np\n",
    "def rule_1(c,A_err):\n",
    "    q = c * A_err\n",
    "    return q\n",
    "\n",
    "def rule_2(a,b,c,d):\n",
    "    q = abs(a * c * b**(c-1)) * d\n",
    "    return q\n",
    "    \n",
    "def rule_3(A_err,B_err):\n",
    "    q = np.sqrt(A_err**2 + B_err**2)\n",
    "    return q\n",
    "\n",
    "def rule_4(Q,A,A_err,m,B,B_err,n):\n",
    "    q_err = abs(Q)*np.sqrt((m*(A_err/A))**2+(n*(B_err/B))**2)\n",
    "    return q_err\n",
    "\n",
    "\n",
    "#T1/2 for each circuit\n",
    "C = 0.087/1000 #ms\n",
    "C_err = 0.002/1000 #ms\n",
    "CCP = 0.048/1000 #ms\n",
    "CC = 0.15/1000 #ms\n",
    "\n",
    "#capacitor values\n",
    "C2 = 10.6 #nF\n",
    "C2_err = 0.1\n",
    "C1 = 10.5 #nF\n",
    "C1_err = 0.1\n",
    "R = 98.3 #KOhm\n",
    "R_err = 0.1\n",
    "\n",
    "time_C1 = C/np.log(2)\n",
    "time_th1 = (C1/1E9)*(R*100)\n",
    "time_C2 = CC/np.log(2)\n",
    "time_th3 = ((1/((1/C1)+(1/C2))/1E9)*(R*100))\n",
    "time_CCP = CCP/np.log(2)\n",
    "time_th2 = ((C1+C2)/1E9)*(R*100)\n",
    "\n",
    "err_C1 = rule_1(np.log(2),C_err)\n",
    "err_CSeq = 1/rule_3((1/0.05),(1/0.05))\n",
    "err_CP = rule_3(0.05,0.05)\n",
    "err_th1 = rule_4(time_th1,(C1/1E9),(C1_err/1E9),1,(R*1000),(R_err*1000),1)\n",
    "\n",
    "print ('Time constant for 1 Capacitor = ',time_C1)\n",
    "print('Theoretical value = ',time_th1)\n",
    "print()\n",
    "print(\"Time constant for 2 Capacitors in parallel = \",time_C2)\n",
    "print(\"Theoretical value = \",time_th2)\n",
    "print()\n",
    "print('Time constant for 2 Capacitors in series = ',time_CCP)\n",
    "print(\"Theoretical value = \",time_th3)\n",
    "\n",
    "print(err_C1,err_CSeq,err_CP)\n",
    "print(err_th1)"
   ]
  },
  {
   "cell_type": "code",
   "execution_count": null,
   "metadata": {},
   "outputs": [],
   "source": []
  },
  {
   "cell_type": "code",
   "execution_count": null,
   "metadata": {},
   "outputs": [],
   "source": []
  }
 ],
 "metadata": {
  "kernelspec": {
   "display_name": "Python 3",
   "language": "python",
   "name": "python3"
  },
  "language_info": {
   "codemirror_mode": {
    "name": "ipython",
    "version": 3
   },
   "file_extension": ".py",
   "mimetype": "text/x-python",
   "name": "python",
   "nbconvert_exporter": "python",
   "pygments_lexer": "ipython3",
   "version": "3.8.3"
  }
 },
 "nbformat": 4,
 "nbformat_minor": 4
}
